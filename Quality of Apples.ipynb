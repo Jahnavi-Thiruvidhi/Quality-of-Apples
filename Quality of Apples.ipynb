{
 "cells": [
  {
   "cell_type": "code",
   "execution_count": 1,
   "id": "28d74809-b064-4f9e-bac5-8866b8c9bcd3",
   "metadata": {},
   "outputs": [],
   "source": [
    "import pandas as pd\n",
    "import json"
   ]
  },
  {
   "cell_type": "code",
   "execution_count": 2,
   "id": "7bf1b338-9050-4df0-b880-c386eeab063d",
   "metadata": {},
   "outputs": [],
   "source": [
    "# loading the data\n",
    "data = pd.read_csv(r\"C:\\Users\\My Pc\\Desktop\\data.csv\")"
   ]
  },
  {
   "cell_type": "code",
   "execution_count": 40,
   "id": "2f8daf50-d879-4991-9ec8-09a1c383a7a0",
   "metadata": {},
   "outputs": [
    {
     "data": {
      "text/html": [
       "<div>\n",
       "<style scoped>\n",
       "    .dataframe tbody tr th:only-of-type {\n",
       "        vertical-align: middle;\n",
       "    }\n",
       "\n",
       "    .dataframe tbody tr th {\n",
       "        vertical-align: top;\n",
       "    }\n",
       "\n",
       "    .dataframe thead th {\n",
       "        text-align: right;\n",
       "    }\n",
       "</style>\n",
       "<table border=\"1\" class=\"dataframe\">\n",
       "  <thead>\n",
       "    <tr style=\"text-align: right;\">\n",
       "      <th></th>\n",
       "      <th>A_id</th>\n",
       "      <th>Size</th>\n",
       "      <th>Weight</th>\n",
       "      <th>Sweetness</th>\n",
       "      <th>Crunchiness</th>\n",
       "      <th>Juiciness</th>\n",
       "      <th>Ripeness</th>\n",
       "      <th>Acidity</th>\n",
       "      <th>Quality</th>\n",
       "    </tr>\n",
       "  </thead>\n",
       "  <tbody>\n",
       "    <tr>\n",
       "      <th>0</th>\n",
       "      <td>816</td>\n",
       "      <td>0.445280</td>\n",
       "      <td>2.562861</td>\n",
       "      <td>-1.283824</td>\n",
       "      <td>1.792019</td>\n",
       "      <td>1.271323</td>\n",
       "      <td>-3.064763</td>\n",
       "      <td>-0.474058</td>\n",
       "      <td>bad</td>\n",
       "    </tr>\n",
       "    <tr>\n",
       "      <th>1</th>\n",
       "      <td>26</td>\n",
       "      <td>0.411055</td>\n",
       "      <td>1.432075</td>\n",
       "      <td>0.002673</td>\n",
       "      <td>2.061023</td>\n",
       "      <td>-5.554449</td>\n",
       "      <td>0.738337</td>\n",
       "      <td>-3.993561</td>\n",
       "      <td>bad</td>\n",
       "    </tr>\n",
       "    <tr>\n",
       "      <th>2</th>\n",
       "      <td>1020</td>\n",
       "      <td>-0.747997</td>\n",
       "      <td>-0.277733</td>\n",
       "      <td>-2.145460</td>\n",
       "      <td>2.427773</td>\n",
       "      <td>-0.170370</td>\n",
       "      <td>0.943576</td>\n",
       "      <td>-1.732185</td>\n",
       "      <td>bad</td>\n",
       "    </tr>\n",
       "    <tr>\n",
       "      <th>3</th>\n",
       "      <td>304</td>\n",
       "      <td>-1.454152</td>\n",
       "      <td>-1.120634</td>\n",
       "      <td>1.202339</td>\n",
       "      <td>0.221828</td>\n",
       "      <td>6.742711</td>\n",
       "      <td>-0.047706</td>\n",
       "      <td>1.199216</td>\n",
       "      <td>good</td>\n",
       "    </tr>\n",
       "    <tr>\n",
       "      <th>4</th>\n",
       "      <td>102</td>\n",
       "      <td>2.354351</td>\n",
       "      <td>-1.247648</td>\n",
       "      <td>-1.542521</td>\n",
       "      <td>2.160057</td>\n",
       "      <td>7.052096</td>\n",
       "      <td>-0.168089</td>\n",
       "      <td>3.018941</td>\n",
       "      <td>good</td>\n",
       "    </tr>\n",
       "    <tr>\n",
       "      <th>...</th>\n",
       "      <td>...</td>\n",
       "      <td>...</td>\n",
       "      <td>...</td>\n",
       "      <td>...</td>\n",
       "      <td>...</td>\n",
       "      <td>...</td>\n",
       "      <td>...</td>\n",
       "      <td>...</td>\n",
       "      <td>...</td>\n",
       "    </tr>\n",
       "    <tr>\n",
       "      <th>415</th>\n",
       "      <td>8</td>\n",
       "      <td>-0.046889</td>\n",
       "      <td>-0.651619</td>\n",
       "      <td>-2.975640</td>\n",
       "      <td>0.943611</td>\n",
       "      <td>-3.451118</td>\n",
       "      <td>0.427965</td>\n",
       "      <td>-2.474191</td>\n",
       "      <td>bad</td>\n",
       "    </tr>\n",
       "    <tr>\n",
       "      <th>416</th>\n",
       "      <td>977</td>\n",
       "      <td>3.208193</td>\n",
       "      <td>-2.091814</td>\n",
       "      <td>-1.312485</td>\n",
       "      <td>-2.277773</td>\n",
       "      <td>3.912217</td>\n",
       "      <td>1.604888</td>\n",
       "      <td>1.808973</td>\n",
       "      <td>good</td>\n",
       "    </tr>\n",
       "    <tr>\n",
       "      <th>417</th>\n",
       "      <td>758</td>\n",
       "      <td>0.032440</td>\n",
       "      <td>-2.517018</td>\n",
       "      <td>1.382659</td>\n",
       "      <td>3.465179</td>\n",
       "      <td>3.645066</td>\n",
       "      <td>1.803947</td>\n",
       "      <td>-0.162574</td>\n",
       "      <td>bad</td>\n",
       "    </tr>\n",
       "    <tr>\n",
       "      <th>418</th>\n",
       "      <td>253</td>\n",
       "      <td>1.847162</td>\n",
       "      <td>-0.671419</td>\n",
       "      <td>-2.597338</td>\n",
       "      <td>-2.261280</td>\n",
       "      <td>6.388705</td>\n",
       "      <td>1.462577</td>\n",
       "      <td>-0.859338</td>\n",
       "      <td>good</td>\n",
       "    </tr>\n",
       "    <tr>\n",
       "      <th>419</th>\n",
       "      <td>614</td>\n",
       "      <td>-0.298519</td>\n",
       "      <td>0.603017</td>\n",
       "      <td>-2.004891</td>\n",
       "      <td>1.132907</td>\n",
       "      <td>-1.537496</td>\n",
       "      <td>0.929012</td>\n",
       "      <td>-0.965620</td>\n",
       "      <td>good</td>\n",
       "    </tr>\n",
       "  </tbody>\n",
       "</table>\n",
       "<p>420 rows × 9 columns</p>\n",
       "</div>"
      ],
      "text/plain": [
       "     A_id      Size    Weight  Sweetness  Crunchiness  Juiciness  Ripeness  \\\n",
       "0     816  0.445280  2.562861  -1.283824     1.792019   1.271323 -3.064763   \n",
       "1      26  0.411055  1.432075   0.002673     2.061023  -5.554449  0.738337   \n",
       "2    1020 -0.747997 -0.277733  -2.145460     2.427773  -0.170370  0.943576   \n",
       "3     304 -1.454152 -1.120634   1.202339     0.221828   6.742711 -0.047706   \n",
       "4     102  2.354351 -1.247648  -1.542521     2.160057   7.052096 -0.168089   \n",
       "..    ...       ...       ...        ...          ...        ...       ...   \n",
       "415     8 -0.046889 -0.651619  -2.975640     0.943611  -3.451118  0.427965   \n",
       "416   977  3.208193 -2.091814  -1.312485    -2.277773   3.912217  1.604888   \n",
       "417   758  0.032440 -2.517018   1.382659     3.465179   3.645066  1.803947   \n",
       "418   253  1.847162 -0.671419  -2.597338    -2.261280   6.388705  1.462577   \n",
       "419   614 -0.298519  0.603017  -2.004891     1.132907  -1.537496  0.929012   \n",
       "\n",
       "      Acidity Quality  \n",
       "0   -0.474058     bad  \n",
       "1   -3.993561     bad  \n",
       "2   -1.732185     bad  \n",
       "3    1.199216    good  \n",
       "4    3.018941    good  \n",
       "..        ...     ...  \n",
       "415 -2.474191     bad  \n",
       "416  1.808973    good  \n",
       "417 -0.162574     bad  \n",
       "418 -0.859338    good  \n",
       "419 -0.965620    good  \n",
       "\n",
       "[420 rows x 9 columns]"
      ]
     },
     "execution_count": 40,
     "metadata": {},
     "output_type": "execute_result"
    }
   ],
   "source": [
    "data"
   ]
  },
  {
   "cell_type": "markdown",
   "id": "738bef0f-08d1-4b8c-b563-90c6764a0acd",
   "metadata": {},
   "source": [
    "# Calculate Skewness"
   ]
  },
  {
   "cell_type": "markdown",
   "id": "8386b0a7-9682-46e6-a3a4-856936e0b0a2",
   "metadata": {},
   "source": [
    "# 1.1 Determine the skewness of the Sweetness column (up to 4 decimal points)"
   ]
  },
  {
   "cell_type": "code",
   "execution_count": 56,
   "id": "d04bb580-ff13-45e7-8531-16c0fd8ba94a",
   "metadata": {},
   "outputs": [
    {
     "name": "stdout",
     "output_type": "stream",
     "text": [
      "0.17383259625433403\n"
     ]
    }
   ],
   "source": [
    "sweetness_skewness = data['Sweetness'].skew()\n",
    "print(sweetness_skewness)"
   ]
  },
  {
   "cell_type": "markdown",
   "id": "fa386511-7249-4307-8b31-dc6614562b75",
   "metadata": {},
   "source": [
    "# 1.2 Determine the skewness of the Crunchiness column (up to 4 decimal points) "
   ]
  },
  {
   "cell_type": "code",
   "execution_count": 57,
   "id": "ef606e56-fa25-450e-a882-4366bb77eb47",
   "metadata": {},
   "outputs": [
    {
     "name": "stdout",
     "output_type": "stream",
     "text": [
      "0.06071884585227286\n"
     ]
    }
   ],
   "source": [
    "crunchiness_skewness = data['Crunchiness'].skew()\n",
    "print(crunchiness_skewness)"
   ]
  },
  {
   "cell_type": "markdown",
   "id": "bdae92d9-2b2c-433b-8858-145abc628990",
   "metadata": {},
   "source": [
    "# Calculate Pearson Correlation:"
   ]
  },
  {
   "cell_type": "markdown",
   "id": "d9a42655-5b9c-41a2-9ce5-e39ea170f11e",
   "metadata": {},
   "source": [
    "# 1.3 Determine the pearson correlation of Ripeness and Acidity columns"
   ]
  },
  {
   "cell_type": "code",
   "execution_count": 58,
   "id": "7c952131-92b0-40fa-a9c6-fbead4f44038",
   "metadata": {},
   "outputs": [
    {
     "name": "stdout",
     "output_type": "stream",
     "text": [
      "-0.20709763686118027\n"
     ]
    }
   ],
   "source": [
    "ripeness_acidity_corr = data['Ripeness'].corr(data['Acidity'], method='pearson')\n",
    "print(ripeness_acidity_corr)"
   ]
  },
  {
   "cell_type": "markdown",
   "id": "4da46ddb-0b15-4a55-bcb3-d47fe6b10597",
   "metadata": {
    "jp-MarkdownHeadingCollapsed": true
   },
   "source": [
    "# Count good and bad quality apples"
   ]
  },
  {
   "cell_type": "markdown",
   "id": "a12382b5-a482-48dc-9cda-f8db069e311b",
   "metadata": {},
   "source": [
    "# 1.4 Determine the pearson correlation of quality and weight columns (up to 4 decimal points)"
   ]
  },
  {
   "cell_type": "code",
   "execution_count": 49,
   "id": "f6603e19-cad0-46cb-bba6-0c5b97bff73b",
   "metadata": {},
   "outputs": [
    {
     "name": "stdout",
     "output_type": "stream",
     "text": [
      "0.013219020525915639\n"
     ]
    }
   ],
   "source": [
    "data['Quality_numeric'] = data['Quality'].apply(lambda x: 1 if x == 'good' else 0)\n",
    "quality_weight_corr = data['Quality_numeric'].corr(data['Weight'], method='pearson')\n",
    "print(quality_weight_corr)"
   ]
  },
  {
   "cell_type": "code",
   "execution_count": 62,
   "id": "32a4cd6e-1a7a-4c94-90fa-8e62ef2843ac",
   "metadata": {},
   "outputs": [],
   "source": [
    "The Quality column is converted to a numeric form.\n",
    "The Pearson correlation between the numeric Quality and Weight is calculated"
   ]
  },
  {
   "cell_type": "markdown",
   "id": "ff16ef63-ee9a-4d56-99b5-f576cd65b8d5",
   "metadata": {},
   "source": [
    "# 1.5 Determine the number of good and bad quality apples [num_bad_apple, num_good_apple] "
   ]
  },
  {
   "cell_type": "code",
   "execution_count": 54,
   "id": "8d885916-dc59-4ab1-ada3-5986fa60d7b1",
   "metadata": {},
   "outputs": [
    {
     "name": "stdout",
     "output_type": "stream",
     "text": [
      "202\n"
     ]
    }
   ],
   "source": [
    "quality_counts = data['Quality'].value_counts()\n",
    "num_good_apple = int(quality_counts.get('good', 0))\n",
    "print(num_good_apple)"
   ]
  },
  {
   "cell_type": "code",
   "execution_count": 53,
   "id": "2bf4200c-60b3-4faf-aad6-88d25d53fd01",
   "metadata": {},
   "outputs": [
    {
     "name": "stdout",
     "output_type": "stream",
     "text": [
      "218\n"
     ]
    }
   ],
   "source": [
    "quality_counts = data['Quality'].value_counts()\n",
    "num_bad_apple = int(quality_counts.get('bad', 0))\n",
    "print(num_bad_apple)"
   ]
  },
  {
   "cell_type": "markdown",
   "id": "6d05e154-b65e-4d9e-a77d-4aeac1c06a2c",
   "metadata": {},
   "source": [
    "# Create submission dictionary"
   ]
  },
  {
   "cell_type": "code",
   "execution_count": 63,
   "id": "1ddf6cf4-29f1-43e0-80c4-3cc701357405",
   "metadata": {},
   "outputs": [],
   "source": [
    "import json\n",
    "\n",
    "submission = {\n",
    "    \"1.1\": round(0.17383259625433403, 4), # Skewness of Sweetness\n",
    "    \"1.2\": round(0.06071884585227286, 4), # Skewness of Crunchiness\n",
    "    \"1.3\": round(-0.20709763686118027, 4), # Pearson correlation between Ripeness and Acidity\n",
    "    \"1.4\": round(0.013219020525915639, 4), # Pearson correlation between Quality and Weight\n",
    "    \"1.5\": [202, 218] # Number of bad and good quality apples\n",
    "}\n",
    "\n"
   ]
  },
  {
   "cell_type": "markdown",
   "id": "6be70844-79aa-4dc0-ae83-3c6091caa427",
   "metadata": {},
   "source": [
    "# Convert submission to JSON string and print"
   ]
  },
  {
   "cell_type": "code",
   "execution_count": 64,
   "id": "0c118b0f-d338-4f5e-9b07-8c0a80c3d81c",
   "metadata": {},
   "outputs": [
    {
     "name": "stdout",
     "output_type": "stream",
     "text": [
      "{\n",
      "    \"1.1\": 0.1738,\n",
      "    \"1.2\": 0.0607,\n",
      "    \"1.3\": -0.2071,\n",
      "    \"1.4\": 0.0132,\n",
      "    \"1.5\": [\n",
      "        202,\n",
      "        218\n",
      "    ]\n",
      "}\n"
     ]
    }
   ],
   "source": [
    "submission_json = json.dumps(submission, indent=4)\n",
    "print(submission_json)"
   ]
  }
 ],
 "metadata": {
  "kernelspec": {
   "display_name": "Python 3 (ipykernel)",
   "language": "python",
   "name": "python3"
  },
  "language_info": {
   "codemirror_mode": {
    "name": "ipython",
    "version": 3
   },
   "file_extension": ".py",
   "mimetype": "text/x-python",
   "name": "python",
   "nbconvert_exporter": "python",
   "pygments_lexer": "ipython3",
   "version": "3.12.3"
  }
 },
 "nbformat": 4,
 "nbformat_minor": 5
}
